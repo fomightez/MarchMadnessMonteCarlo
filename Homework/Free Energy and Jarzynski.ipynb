{
 "metadata": {
  "name": "Free Energy and Jarzynski"
 },
 "nbformat": 3,
 "nbformat_minor": 0,
 "worksheets": [
  {
   "cells": [
    {
     "cell_type": "markdown",
     "metadata": {},
     "source": [
      "# Things Michael must verify with Charlie before the lab starts\n",
      "\n",
      "- Verify setup order - boot head node, wait till up, then fire up compute, then plug yourself in\n",
      "- Make sure we can forward ports from the physical little fe to OS X and Windows\n",
      "- Make the machine files (~/machines2)\n",
      "- Verify number of CPUs on which to run\n",
      "- Verify physical location of LittleFe units for next 2-3 weeks\n",
      "\n",
      "# Things Michael must do before the lab starts\n",
      "\n",
      "- Get usernames and passwords for the LittleFe units\n",
      "- Make sure the correct pulling tarball is on each machine\n",
      "- Bring extra mice\n",
      "- Put namd2 in the path for everyone\n",
      "\n",
      "\n",
      "# For next time\n",
      " - Get VMD installed on all of the LittleFe units\n",
      " - put /home/mglerner/bin into everybody's PATH"
     ]
    },
    {
     "cell_type": "markdown",
     "metadata": {},
     "source": [
      "# The basic setup\n",
      "\n",
      "You've all read the prelab material by now, so you know the basic punchline:\n",
      "\n",
      " - we might like to figure out the free energy difference between two states of a system\n",
      " - we'll pick our system to be deca-Alanine, and our states will be a helix and an extended state\n",
      " - to do things \"correctly\" we'd want to be quasistatic, i.e. we'd want to pull extremely slowly to extend the system\n",
      " - the Jarzynski equality tells us $e^{-\\beta\\Delta F} = \\left< e^{-\\beta W} \\right>$\n",
      "\n",
      "that is, by taking the exponential average of the work done over several trajectories, _regardless_ of the path, we can find the equilibrium free energy difference. We'll exploit that by running several extremely fast pulling trajectories and using those to extract the free energy difference between the two states.\n",
      "\n",
      "# Where and how\n",
      "\n",
      "We'll be using a fast, modern, open-source suite of tools to investigate this. Not-so-coincidentally, it's the set of tools used in the paper you read."
     ]
    },
    {
     "cell_type": "markdown",
     "metadata": {},
     "source": [
      "Continuing, you first need to ssh to your LittleFe, making sure that you're forwarding port 3000. If you're using MacOS, you want something like this in your .ssh/config"
     ]
    },
    {
     "cell_type": "raw",
     "metadata": {},
     "source": [
      "Host littlefe\n",
      "     Hostname lf-1.cluster.earlham.edu\n",
      "     User mglerner\n",
      "     LocalForward localhost:3000 lf-1.cluster.earlham.edu:3000\n",
      "     ProxyCommand ssh -t -Y cluster.earlham.edu nc -w 360 %h %p\n"
     ]
    },
    {
     "cell_type": "markdown",
     "metadata": {},
     "source": [
      "or this for a local connection"
     ]
    },
    {
     "cell_type": "raw",
     "metadata": {},
     "source": [
      "Host localfe\n",
      "     Hostname 192.168.3.1\n",
      "     User bccd\n",
      "     LocalForward localhost:3000 node000:3000\n",
      "     LocalForward localhost:5555 node000:5555\n"
     ]
    },
    {
     "cell_type": "markdown",
     "metadata": {},
     "source": [
      "On Windows, you set up port forwarding in much the same way from within PuTTY"
     ]
    },
    {
     "cell_type": "markdown",
     "metadata": {},
     "source": [
      "# Now, head on to the tutorial. Start the namd process on your LittleFe, and then start up vmd on your laptop.\n",
      "\n",
      "*Before* you conect your vmd to namd, show hydrogen bonds with"
     ]
    },
    {
     "cell_type": "raw",
     "metadata": {},
     "source": [
      "Graphics --> Representations\n",
      "Click on the one that says \"Ribbons\" then \"Create Rep\"\n",
      "Drawing Method --> HBonds\n",
      "Coloring Method --> ColorId\n",
      "select 8 (white)\n",
      "\n",
      "Distance Cutoff --> 4.0\n",
      "Angle Cutoff --> 40\n"
     ]
    },
    {
     "cell_type": "markdown",
     "metadata": {},
     "source": [
      "# Continue through the tutorial, including running the smd simulation as described.\n",
      "\n",
      "For this, you may need to copy the files from the littlefe to your desktop machine.\n"
     ]
    },
    {
     "cell_type": "raw",
     "metadata": {},
     "source": [
      "scp littlefe:/home/mglerner/Pulling/DecaAlanine/da.dcd .\n",
      "scp littlefe:/home/mglerner/Pulling/DecaAlanine/da.psf ."
     ]
    },
    {
     "cell_type": "markdown",
     "metadata": {},
     "source": [
      "\n",
      "When you've finished the SMD simulation, view it and then compare with your lab mates. Are they all the same trajectory?\n",
      "\n",
      "Continue on, remembering that you can use cut-and-paste to get information from the tutorial to your own VMD console without typos.\n",
      "\n",
      "Work all the way through the canned simulations.\n",
      "\n",
      "Submit your own simulation on your LittleFe with"
     ]
    },
    {
     "cell_type": "raw",
     "metadata": {},
     "source": [
      "For the \"real\" simulations, we will want a force constant of 500 pN/A\n",
      "\n",
      "For reversible pulling, we want 0.1A/ns and 200 ns.\n",
      "\n",
      "For irreversible pulling, we'll use both 10A/ns and 100A/ns for timing purposes.\n",
      "and want 10 trajectories.\n",
      "\n",
      "For unit conversion, note that documentation lives at http://www.ks.uiuc.edu/Research/namd/2.7/ug/node42.html\n",
      "Namd GPU documentation lives http://www.ks.uiuc.edu/Research/namd/2.7/ug/node72.html\n",
      "To run locally, use an explicit machines file or else the GPU performance seems to degrade:\n",
      "\n",
      "mpirun -np 2 -machinefile ./machines011 ~/Molecular-dynamics/NAMD_2.9_Linux-x86_64-MPI-CUDA/namd2 +idlepoll smd-reversible-pulling.namd > da_smd_reversible.log\n",
      "\n",
      "mpirun -np 2 -machinefile ~/machines011 ~/Molecular-dynamics/NAMD_2.9_Linux-x86_64-MPI/namd2 smd-reversible-pulling.namd > da_smd_reversibleCPU.log\n"
     ]
    },
    {
     "cell_type": "code",
     "collapsed": false,
     "input": [],
     "language": "python",
     "metadata": {},
     "outputs": []
    }
   ],
   "metadata": {}
  }
 ]
}