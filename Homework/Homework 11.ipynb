{
 "metadata": {
  "name": "",
  "signature": "sha256:1cb1ea9749712d589d407b9ad8756230eb8a6fda19892cd03c544714e16672b2"
 },
 "nbformat": 3,
 "nbformat_minor": 0,
 "worksheets": [
  {
   "cells": [
    {
     "cell_type": "heading",
     "level": 1,
     "metadata": {},
     "source": [
      "Problems from the book"
     ]
    },
    {
     "cell_type": "markdown",
     "metadata": {},
     "source": [
      "Required: **1.56, 1.68 (hint: you can make life easier by reading page 47 and assuming that the perfume has already spread to 1/2 of the room)** Extra credit: 1.57"
     ]
    },
    {
     "cell_type": "heading",
     "level": 1,
     "metadata": {},
     "source": [
      "Continuing the March Madness Monte Carlo problem"
     ]
    },
    {
     "cell_type": "raw",
     "metadata": {},
     "source": [
      "The consensus from the class last time was that we should move parts MM1.2-1.3 to this assignment. I've changed my mind on the organization a bit, so be careful to read through the questions below."
     ]
    },
    {
     "cell_type": "heading",
     "level": 2,
     "metadata": {},
     "source": [
      "Flipping several coins (MM1.2)"
     ]
    },
    {
     "cell_type": "raw",
     "metadata": {},
     "source": [
      "This time, you start with a few teams and the following rankings (taken from the 2012 brackets):\n",
      "\n",
      "Kentucky (1), Western Kentucky (16), Iowa State (8), Connecticut (9), Wichita State (5), VCU (12), Indiana (4), New Mexico State (13).\n",
      "\n",
      "Your goal is to figure out who goes on to the next round. You're going to want to keep some more information around this time, so you may find it useful to keep things in a dictionary. E.g. something like\n"
     ]
    },
    {
     "cell_type": "code",
     "collapsed": false,
     "input": [
      "rankings = {\"Kentucky\":1,\n",
      "            \"Western Kentucky\":16,\n",
      "            }\n",
      "print rankings[\"Kentucky\"]\n",
      "print rankings[\"Kentucky\"] < rankings[\"Western Kentucky\"]"
     ],
     "language": "python",
     "metadata": {},
     "outputs": [
      {
       "output_type": "stream",
       "stream": "stdout",
       "text": [
        "1\n",
        "True\n"
       ]
      }
     ],
     "prompt_number": 1
    },
    {
     "cell_type": "raw",
     "metadata": {},
     "source": [
      "You'll want to think a bit about organization here. Thinking about the way brackets work, you probably want to keep your results in a list, in order. That is, if you start with a list of 8 teams, you want to end up with a list of 4 teams. If you keep that list in the order [winner game 1, winner game 2, winner game3, winner game 4], you'll be ready for the next part of the assignment. In fact, the best thing to do is to return a list of winners and a list of losers. That'll make our life easier when we consider energy functions later on. So, you'll want to define a function that looks like"
     ]
    },
    {
     "cell_type": "code",
     "collapsed": false,
     "input": [
      "def playround(teams):\n",
      "    winners = [] # empty list\n",
      "    losers = [] # empty list\n",
      "    # See the cookbook for examples of how to add things to a list\n",
      "    <...your code here>\n",
      "    return winners,losers\n",
      "\n",
      "winners,losers = playround([\"A\",\"B\",\"C\",\"D\",\"E\",\"F\",\"G\",\"H\"]) #you'd use real team names here\n",
      "print winners\n",
      "# prints [\"A\",\"C\",\"E\",\"G\"]\n",
      "print losers\n",
      "#prints [\"B\",\"D\",\"F\",\"H\"]"
     ],
     "language": "python",
     "metadata": {},
     "outputs": []
    },
    {
     "cell_type": "raw",
     "metadata": {},
     "source": [
      "But you need some way of actually determining winners! For now, just assume the better-ranked team wins, and use your rankings dictionary to determine the winner. That will make it easiest to verify that the code is doing what you expect.\n",
      "\n",
      "When you first write this, it's OK to assume that there are exactly eight teams. My suggestion is that you write a playgame function like"
     ]
    },
    {
     "cell_type": "code",
     "collapsed": false,
     "input": [
      "def playgame(team1,team2):\n",
      "    <... your code here ...>\n",
      "    return winner,loser"
     ],
     "language": "python",
     "metadata": {},
     "outputs": []
    },
    {
     "cell_type": "raw",
     "metadata": {},
     "source": [
      "and call it repeatedly for each matchup. \n",
      "\n",
      "After you're done with this exercise, email it to me and I'll show you how you can use the some python magic from the itertools library to make it work for any number of teams, not just 8."
     ]
    },
    {
     "cell_type": "heading",
     "level": 2,
     "metadata": {},
     "source": [
      "Energy (MM1.3)"
     ]
    },
    {
     "cell_type": "raw",
     "metadata": {},
     "source": [
      "Now, we want to use the tools we've built up in Statistical Mechanics. We phrase everything in terms of energy, so let's pretend that games (or brackets) can be described by some sort of energy function U. For instance, you might say that the point in game space with Western Kentucky beating Kentucky is at higher value of U than Kentucky beating Western Kentucky. Using whatever definition of \"energy\" you'd like, write a function that calculates the energy of a given game outcome. With your function, what's the energy of Kentucky beating Western Kentucky? Western Kentucky beating Kentucky? What's the energy of your set of first round outcomes from MM1.2? Run your code from MM1.2 again to get a different outcome, and tell me the energy of that outcome as well."
     ]
    },
    {
     "cell_type": "heading",
     "level": 2,
     "metadata": {},
     "source": [
      "Two rounds (MM2.1)"
     ]
    },
    {
     "cell_type": "raw",
     "metadata": {},
     "source": [
      "Now we want to play two rounds of a tournament. Let's start with a small tournament composed of the first eight teams listed in MM1.2. If you followed my advice, that means you'll start with a list of teams and rankings like"
     ]
    },
    {
     "cell_type": "code",
     "collapsed": false,
     "input": [
      "teams = [\"Kentucky\", \"Western Kentucky\", \"Iowa State\", \"Connecticut\",\"Wichita State\", \"VCU\", \"Indiana\", \"New Mexico State\"]\n",
      "rankings = {\"Kentucky\":1,\n",
      "            \"Western Kentucky\":16,\n",
      "            \"Iowa State\":8,\n",
      "            \"Connecticut\":9,\n",
      "            \"Wichita State\":5, \n",
      "            \"VCU\":12, \n",
      "            \"Indiana\":4, \n",
      "            \"New Mexico State\":13,\n",
      "            }"
     ],
     "language": "python",
     "metadata": {},
     "outputs": [],
     "prompt_number": 5
    },
    {
     "cell_type": "raw",
     "metadata": {},
     "source": [
      "If you've done MM1.2 correctly, you can play two rounds like this:"
     ]
    },
    {
     "cell_type": "code",
     "collapsed": false,
     "input": [
      "winners,losers = playround(teams)\n",
      "winners2,losers2 = playround(winners)"
     ],
     "language": "python",
     "metadata": {},
     "outputs": []
    },
    {
     "cell_type": "raw",
     "metadata": {},
     "source": [
      "Now, play enough rounds that you can determine the winner of your 8-team tournament. Do you expect the same result every time?"
     ]
    },
    {
     "cell_type": "heading",
     "level": 2,
     "metadata": {},
     "source": [
      "Two rounds, with energy! (MM2.2) (if you have time, do this. If not, it can be submitted next week)"
     ]
    },
    {
     "cell_type": "raw",
     "metadata": {},
     "source": [
      "Change your playgame() function so that it uses the energy function in MM1.3. Run your 8-team bracket a few more times. Do you always get the same results? Do you see any upsets?"
     ]
    }
   ],
   "metadata": {}
  }
 ]
}