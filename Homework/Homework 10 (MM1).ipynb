{
 "metadata": {
  "name": "",
  "signature": "sha256:6ea26b4792ccc611daf57702aed886a7494a42b47bcda055decd31302ca99c38"
 },
 "nbformat": 3,
 "nbformat_minor": 0,
 "worksheets": [
  {
   "cells": [
    {
     "cell_type": "heading",
     "level": 1,
     "metadata": {},
     "source": [
      "From the book"
     ]
    },
    {
     "cell_type": "markdown",
     "metadata": {},
     "source": [
      "**8.15, 8.17, 8.25, 8.26**. We'll do 8.27 next time, so you may want to look ahead."
     ]
    },
    {
     "cell_type": "heading",
     "level": 1,
     "metadata": {},
     "source": [
      "March Madness, Part 1"
     ]
    },
    {
     "cell_type": "raw",
     "metadata": {},
     "source": [
      "The goal here is to use Monte Carlo methods to predict a bracket for March Madness. We'll start off by using the \"dumb\" Monte Carlo\n",
      "methods we've described so far, and end up defining an energy function, using the Metropolis algorithm, etc. You will need to turn\n",
      "in code along with all of you answers to this question (can be done via email or by printing)."
     ]
    },
    {
     "cell_type": "heading",
     "level": 2,
     "metadata": {},
     "source": [
      "Flipping one coin (MM1.1)"
     ]
    },
    {
     "cell_type": "raw",
     "metadata": {},
     "source": [
      "You start with two teams, Kansas and Indiana. Let's assume Indiana is ranked #1 and Kansas is ranked #2. Decide what you think the relative probability of Kansas or Indiana winning should be based on that ranking, write some Python code that uses random sampling to play the game based on that probability. Try running your game for 10, 20, 1000, etc. times and verify that you get the correct probability.\n"
     ]
    },
    {
     "cell_type": "heading",
     "level": 2,
     "metadata": {},
     "source": [
      "Flipping several coins (MM1.2)"
     ]
    },
    {
     "cell_type": "raw",
     "metadata": {},
     "source": [
      "This time, you start with a few teams and the following rankings (taken from the 2012 brackets):\n",
      "\n",
      "Kentucky (1), Western Kentucky (16), Iowa State (8), Connecticut (9), Wichita State (5), VCU (12), Indiana (4), New Mexico State (13).\n",
      "\n",
      "Your goal is to figure out who goes on to the next round. You're going to want to keep some more information around this time, so you may find it useful to keep things in a dictionary. E.g. something like\n"
     ]
    },
    {
     "cell_type": "code",
     "collapsed": false,
     "input": [
      "rankings = {\"Kentucky\":1,\n",
      "            \"Western Kentucky\":16,\n",
      "            }\n",
      "print rankings[\"Kentucky\"]\n",
      "print rankings[\"Kentucky\"] < rankings[\"Western Kentucky\"]"
     ],
     "language": "python",
     "metadata": {},
     "outputs": [
      {
       "output_type": "stream",
       "stream": "stdout",
       "text": [
        "1\n",
        "True\n"
       ]
      }
     ],
     "prompt_number": 3
    },
    {
     "cell_type": "raw",
     "metadata": {},
     "source": [
      "You'll want to think a bit about organization here. Thinking about the way brackets work, you probably want to keep your results in a list, in order. That is, if you start wtih a list of 8 teams, you want to end up with a list of 4 teams. If you keep that list in the order [winner game 1, winner game 2, winner game3, winner game 4], you'll be ready for next week's assignment, when we'll run the next round of the brackets."
     ]
    },
    {
     "cell_type": "heading",
     "level": 2,
     "metadata": {},
     "source": [
      "Energy (MM1.3)"
     ]
    },
    {
     "cell_type": "raw",
     "metadata": {},
     "source": [
      "Now, we want to use the tools we've built up in Statistical Mechanics. We phrase everything in terms of energy, so let's pretend that games (or brackets) can be described by some sort of energy function U. For instance, you might say that the point in game space with Western Kentucky beating Kentucky is at higher value of U than Kentucky beating Western Kentucky. Using whatever definition of \"energy\" you'd like, write a function that calculates the energy of a given game outcome. With your function, what's the energy of Kentucky beating Western Kentucky? Western Kentucky beating Kentucky? What's the energy of your set of first round outcomes from MM1.2? Run your code from MM1.2 again to get a different outcome, and tell me the energy of that outcome as well."
     ]
    }
   ],
   "metadata": {}
  }
 ]
}