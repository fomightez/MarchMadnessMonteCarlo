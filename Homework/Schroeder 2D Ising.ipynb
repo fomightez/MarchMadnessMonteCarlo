{
 "metadata": {
  "name": "Schroeder 2D Ising"
 },
 "nbformat": 3,
 "nbformat_minor": 0,
 "worksheets": [
  {
   "cells": [
    {
     "cell_type": "raw",
     "metadata": {},
     "source": [
      "Now that you've worked through the Python examples, you have some idea of how to save things as files and run them.\n",
      "\n",
      "We'll work through Schroeder's 2D Ising model today in class. You have most of the tools. Three things missing:\n",
      "\n",
      "1) range vs. xrange: We use range to make a list of numbers, and we then loop through that with a for loop. In this code, we'll make a list of a *lot* of numbers (N**2 or bigger, for N == 1000). In those cases, you need to use xrange. It's exactly the same as range except that it doesn't burn up the memory to make the list all at once. Making the lists involved here can easily burn up gigs of memory.\n",
      "\n",
      "2) plotting. Plotting is fairly easy, but you have enough on your plate with learning Python right now. So, I've written the colorsquare routine for you. The meat is the \"pylab.imshow(s,interpolation='nearest',cmap=cm.Greys_r)\" line, which looks like what we used before. The cmap argument tells it to use a specific color map to make everything come out in black and white. The rest of the code makes it update the figure nicely and keeps it from doing so too often in big simulations.\n",
      "\n",
      "2) The raw_input line at the very end tells python to ask for use input. This keeps it from closing the plot window."
     ]
    },
    {
     "cell_type": "code",
     "collapsed": false,
     "input": [
      "#!/usr/bin/env python\n",
      "from __future__ import division\n",
      "import numpy as np\n",
      "import pylab\n",
      "from numpy.random import random #import only one function from somewhere\n",
      "from numpy.random import randint\n",
      "import scipy\n",
      "from time import sleep\n"
     ],
     "language": "python",
     "metadata": {},
     "outputs": [],
     "prompt_number": 1
    },
    {
     "cell_type": "code",
     "collapsed": false,
     "input": [
      "size = 10 # lattice length\n",
      "T = 2.5 # in units of epsilon/k\n"
     ],
     "language": "python",
     "metadata": {},
     "outputs": [],
     "prompt_number": 2
    },
    {
     "cell_type": "code",
     "collapsed": false,
     "input": [
      "def initialize():\n",
      "    \"\"\"\n",
      "    Initialize a random array where our spins are all up or down.\n",
      "    \"\"\"\n",
      "    myarray = random([size,size]) # initializes with random numbers from 0 to 1.\n",
      "    myarray[myarray<0.5] = -1\n",
      "    myarray[myarray>=0.5] = 1\n",
      "    colorsquare(myarray)\n",
      "    pylab.initialize()\n",
      "    return myarray\n"
     ],
     "language": "python",
     "metadata": {},
     "outputs": [],
     "prompt_number": 1
    },
    {
     "cell_type": "code",
     "collapsed": false,
     "input": [
      "def deltaU(i,j):\n",
      "    \"\"\"\n",
      "    Compute delta U of flipping a given dipole at i,j\n",
      "    Note periodic boundary conditions.\n",
      "    \"\"\"\n",
      "    if i == size - 1: above = s[0,j]\n",
      "    else:             above = s[i+1,j]\n",
      "\n",
      "    if i == 0:        below = s[-1,j] # s[size,j]\n",
      "    else:             below = s[i-1,j]\n",
      "\n",
      "    if j == size - 1: right = s[i,0]\n",
      "    else:             right = s[i,j+1]\n",
      "\n",
      "    if j == 0:        left = s[i,-1]\n",
      "    else:             left = s[i,j-1]\n",
      "\n",
      "    return 2*s[i,j]*(above+below+left+right)\n"
     ],
     "language": "python",
     "metadata": {},
     "outputs": [],
     "prompt_number": 4
    },
    {
     "cell_type": "code",
     "collapsed": false,
     "input": [
      "# Some magic to set up plotting\n",
      "##pylab.ion() # You need this\n",
      "\n",
      "fig = pylab.figure()\n",
      "ax = ax = fig.add_subplot(111)\n",
      "import matplotlib.cm as cm\n"
     ],
     "language": "python",
     "metadata": {},
     "outputs": [
      {
       "output_type": "display_data",
       "png": "[encoded data removed]"
      }
     ],
     "prompt_number": 5
    },
    {
     "cell_type": "code",
     "collapsed": false,
     "input": [
      "colorcounter = 0\n",
      "def colorsquare(s,showevery=None):\n",
      "    global colorcounter\n",
      "    delay = 0.0\n",
      "    if showevery is None:\n",
      "        if size <= 10:\n",
      "            showevery = 1\n",
      "            delay = 5\n",
      "        elif size <= 100:\n",
      "            showevery = int(size*size/2)\n",
      "        else:\n",
      "            showevery = size*size\n",
      "    if divmod(colorcounter,showevery)[1] == 0:\n",
      "        fig.clear()\n",
      "        pylab.imshow(s,interpolation='nearest',cmap=cm.Greys_r)\n",
      "        fig.canvas.draw()\n",
      "        #sleep(delay)\n",
      "        pylab.draw()\n",
      "    colorcounter = colorcounter + 1\n"
     ],
     "language": "python",
     "metadata": {},
     "outputs": [],
     "prompt_number": 6
    },
    {
     "cell_type": "code",
     "collapsed": false,
     "input": [
      "s = initialize()\n",
      "\n",
      "numtrials = 100*size**2\n",
      "print \"numtrials\",numtrials\n"
     ],
     "language": "python",
     "metadata": {},
     "outputs": [
      {
       "output_type": "stream",
       "stream": "stdout",
       "text": [
        "numtrials 10000\n"
       ]
      },
      {
       "output_type": "display_data",
       "png": "[encoded data removed]"
      }
     ],
     "prompt_number": 7
    },
    {
     "cell_type": "code",
     "collapsed": false,
     "input": [
      "for trial in xrange(numtrials):\n",
      "    i = randint(size) # choose random row\n",
      "    j = randint(size) # and random column\n",
      "    ediff = deltaU(i,j)\n",
      "    if ediff <= 0: # flipping reduces the energy\n",
      "        s[i,j] = -s[i,j]\n",
      "        colorsquare(s)\n",
      "    else:\n",
      "        if random() < np.exp(-ediff/T):\n",
      "            s[i,j] = -s[i,j]\n",
      "            colorsquare(s)\n"
     ],
     "language": "python",
     "metadata": {},
     "outputs": [],
     "prompt_number": "*"
    },
    {
     "cell_type": "code",
     "collapsed": false,
     "input": [
      "##raw_input() # you need this.\n"
     ],
     "language": "python",
     "metadata": {},
     "outputs": [],
     "prompt_number": "*"
    },
    {
     "cell_type": "raw",
     "metadata": {},
     "source": [
      "Here's the full code that works on Windows and OS X"
     ]
    },
    {
     "cell_type": "code",
     "collapsed": false,
     "input": [
      "py.random import randint\n",
      "import scipy\n",
      "from time import sleep\n",
      "\n",
      "size = 10 # lattice length\n",
      "T = 2.5 # in units of epsilon/k\n",
      "\n",
      "def initialize():\n",
      "    \"\"\"\n",
      "    Initialize a random array where our spins are all up or down.\n",
      "    \"\"\"\n",
      "    myarray = random([size,size]) # initializes with random numbers from 0 to 1.\n",
      "    myarray[myarray<0.5] = -1\n",
      "    myarray[myarray>=0.5] = 1\n",
      "    colorsquare(myarray)\n",
      "    pylab.show()\n",
      "    return myarray\n",
      "\n",
      "def deltaU(i,j):\n",
      "    \"\"\"\n",
      "    Compute delta U of flipping a given dipole at i,j\n",
      "    Note periodic boundary conditions.\n",
      "    \"\"\"\n",
      "    from numpy import mod\n",
      "    above = s[mod(i+1,size),j]\n",
      "    below = s[mod(i-1,size),j]\n",
      "    right = s[i,mod(j+1,size)]\n",
      "    left =  s[i,mod(j-1,size)]\n",
      "    if 0:\n",
      "        mydu = 2*s[i,j]*(above+below+left+right)\n",
      "        if i == size - 1: above = s[0,j]\n",
      "        else:             above = s[i+1,j]\n",
      "\n",
      "        if i == 0:        below = s[-1,j] # s[size,j]\n",
      "        else:             below = s[i-1,j]\n",
      "\n",
      "        if j == size - 1: right = s[i,0]\n",
      "        else:             right = s[i,j+1]\n",
      "\n",
      "        if j == 0:        left = s[i,-1]\n",
      "        else:             left = s[i,j-1]\n",
      "        du = 2*s[i,j]*(above+below+left+right)\n",
      "        #assert(du==mydu)\n",
      "        #print du,mydu\n",
      "\n",
      "    return 2*s[i,j]*(above+below+left+right)\n",
      "\n",
      "# Some magic to set up plotting\n",
      "pylab.ion() # You need this\n",
      "\n",
      "fig = pylab.figure()\n",
      "ax = ax = fig.add_subplot(111)\n",
      "import matplotlib.cm as cm\n",
      "\n",
      "colorcounter = 0\n",
      "def colorsquare(s,showevery=None):\n",
      "    global colorcounter\n",
      "    delay = 0.0\n",
      "    if showevery is None:\n",
      "        if size <= 10:\n",
      "            showevery = 1\n",
      "            delay = 5\n",
      "        elif size <= 100:\n",
      "            showevery = int(size*size/2)\n",
      "        else:\n",
      "            showevery = size*size\n",
      "    if divmod(colorcounter,showevery)[1] == 0:\n",
      "        fig.clear()\n",
      "        pylab.imshow(s,interpolation='nearest',cmap=cm.Greys_r)\n",
      "        fig.canvas.draw()\n",
      "        #sleep(delay)\n",
      "        pylab.draw()\n",
      "    colorcounter = colorcounter + 1\n",
      "\n",
      "s = initialize()\n",
      "\n",
      "numtrials = 100*size**2\n",
      "print \"numtrials\",numtrials\n",
      "for trial in xrange(numtrials):\n",
      "    i = randint(size) # choose random row\n",
      "    j = randint(size) # and random column\n",
      "    ediff = deltaU(i,j)\n",
      "    if ediff <= 0: # flipping reduces the energy\n",
      "        s[i,j] = -s[i,j]\n",
      "        colorsquare(s)\n",
      "    else:\n",
      "        if random() < np.exp(-ediff/T):\n",
      "            s[i,j] = -s[i,j]\n",
      "            colorsquare(s)\n",
      "        \n",
      "raw_input()  # you need this.\n"
     ],
     "language": "python",
     "metadata": {},
     "outputs": []
    }
   ],
   "metadata": {}
  }
 ]
}