{
 "metadata": {
  "name": "Basic Python Intro, Starting on Monte Carlo"
 },
 "nbformat": 3,
 "nbformat_minor": 0,
 "worksheets": [
  {
   "cells": [
    {
     "cell_type": "heading",
     "level": 1,
     "metadata": {},
     "source": [
      "Very fast Python intro"
     ]
    },
    {
     "cell_type": "raw",
     "metadata": {},
     "source": [
      "For reasons that we can talk about later, if you want division to do something sane, start all of your Python scripts off with the following line:"
     ]
    },
    {
     "cell_type": "code",
     "collapsed": false,
     "input": [
      "from __future__ import division"
     ],
     "language": "python",
     "metadata": {},
     "outputs": [],
     "prompt_number": 1
    },
    {
     "cell_type": "heading",
     "level": 2,
     "metadata": {},
     "source": [
      "Functions"
     ]
    },
    {
     "cell_type": "raw",
     "metadata": {},
     "source": [
      "Functions do something and return a result. If you're defining a function yourself, you start it off with the word \"def\". For instance, here's one that does some arbitrary calculation:"
     ]
    },
    {
     "cell_type": "code",
     "collapsed": false,
     "input": [
      "def doit():\n",
      "    result = 1 + 3*4 + 23/2\n",
      "    return result"
     ],
     "language": "python",
     "metadata": {},
     "outputs": [],
     "prompt_number": 2
    },
    {
     "cell_type": "raw",
     "metadata": {},
     "source": [
      "There are a few things to note about the above definition, especially if you're used to another programming language. First, indentation matters. The lines in the middle of the function definition get indented. If you're used to C++, for instance, Python uses indentation instead of braces. Second, the colon is important.\n",
      "\n",
      "Now, since a function does something for us, we want to see what happens when it does that thing. That's called \"calling a function\" and we do so by using the parenthesis. Here's how we'd print the results of that calculation:"
     ]
    },
    {
     "cell_type": "code",
     "collapsed": false,
     "input": [
      "print doit()"
     ],
     "language": "python",
     "metadata": {},
     "outputs": [
      {
       "output_type": "stream",
       "stream": "stdout",
       "text": [
        "24.5\n"
       ]
      }
     ],
     "prompt_number": 3
    },
    {
     "cell_type": "raw",
     "metadata": {},
     "source": [
      "That should print out 24.5. What if we want the result of that function? We just assign it to some name of our choice by using the \"=\" sign:"
     ]
    },
    {
     "cell_type": "code",
     "collapsed": false,
     "input": [
      "value = doit()\n",
      "print value"
     ],
     "language": "python",
     "metadata": {},
     "outputs": [
      {
       "output_type": "stream",
       "stream": "stdout",
       "text": [
        "24.5\n"
       ]
      }
     ],
     "prompt_number": 4
    },
    {
     "cell_type": "raw",
     "metadata": {},
     "source": [
      "Functions can also take input parameters to do something with. For instance, what if we wanted the square of a number?"
     ]
    },
    {
     "cell_type": "code",
     "collapsed": false,
     "input": [
      "def square(number):\n",
      "    number * number\n",
      "\n",
      "print square(4)"
     ],
     "language": "python",
     "metadata": {},
     "outputs": [
      {
       "output_type": "stream",
       "stream": "stdout",
       "text": [
        "None\n"
       ]
      }
     ],
     "prompt_number": 5
    },
    {
     "cell_type": "raw",
     "metadata": {},
     "source": [
      "Oops! That didn't work. What happened? We forgot to tell the function to actually return the result. We'll fix that below. We'll also add a comment. Any part of a line that comes after a \"#\" is called a comment, and gets ignored by the computer"
     ]
    },
    {
     "cell_type": "code",
     "collapsed": false,
     "input": [
      "def square(number):\n",
      "    return number * number # don't forget the return!\n",
      "print square(4)"
     ],
     "language": "python",
     "metadata": {},
     "outputs": [
      {
       "output_type": "stream",
       "stream": "stdout",
       "text": [
        "16\n"
       ]
      }
     ],
     "prompt_number": 6
    },
    {
     "cell_type": "raw",
     "metadata": {},
     "source": [
      "We can also ask Python whether something is true, and then act on the result. For instance:"
     ]
    },
    {
     "cell_type": "code",
     "collapsed": false,
     "input": [
      "if 2 < 4:\n",
      "    print \"Yay! Two is less than four\""
     ],
     "language": "python",
     "metadata": {},
     "outputs": [
      {
       "output_type": "stream",
       "stream": "stdout",
       "text": [
        "Yay! Two is less than four\n"
       ]
      }
     ],
     "prompt_number": 7
    },
    {
     "cell_type": "raw",
     "metadata": {},
     "source": [
      "We can also ask Python to do something if the result is not true:"
     ]
    },
    {
     "cell_type": "code",
     "collapsed": false,
     "input": [
      "if 2 > 4:\n",
      "    print \"Something is wrong in the world!\"\n",
      "else:\n",
      "    print \"Everything is happy!\""
     ],
     "language": "python",
     "metadata": {},
     "outputs": [
      {
       "output_type": "stream",
       "stream": "stdout",
       "text": [
        "Everything is happy!\n"
       ]
      }
     ],
     "prompt_number": 8
    },
    {
     "cell_type": "raw",
     "metadata": {},
     "source": [
      "Note that, once again, we used indentation to tell Python what to do when."
     ]
    },
    {
     "cell_type": "heading",
     "level": 2,
     "metadata": {},
     "source": [
      "Letting other people do the work for us"
     ]
    },
    {
     "cell_type": "markdown",
     "metadata": {},
     "source": [
      "One of the best things about Python is that People have written a lot of useful code for you to use and reuse. Those bits of code get stored in something called \"modules\", and we get our hands on them by \"importing\" the modules. The main ones we'll make use of are:\n",
      "\n",
      " - numpy, which contains the main code we'll use for numerically intensive calculations. The heart of numpy is its array object.\n",
      "\n",
      " - matplotlib, which contains the main code we'll use for plotting\n",
      "\n",
      " - scipy, which contains additional scientific code that we'll find useful\n",
      "\n",
      "You can import a module by saying something like \"import numpy\" and then use a numpy array with \"numpy.array\". We'll be a bit lazy (this is standard) and tell Python to rename things for us. \"import numpy as np\" means to import numpy, but call it \"np\" so that the array would be \"np.array\"."
     ]
    },
    {
     "cell_type": "code",
     "collapsed": false,
     "input": [
      "import numpy as np #numpy, arrays, etc.\n",
      "import matplotlib.pyplot as plt #plotting\n",
      "from numpy.random import random #import only one function from somewhere"
     ],
     "language": "python",
     "metadata": {},
     "outputs": [],
     "prompt_number": 9
    },
    {
     "cell_type": "raw",
     "metadata": {},
     "source": [
      "Especially in our 2D ising model, we'll make use of matplotlib to graph arrays. To look ahead a bit, our 2D ising model will consist of an NxN array of dipoles, each of which can point either up or down. What if we wanted to make a random 10x10 array and plot it? The right function to use turns out to be \"imshow\" which was originally developed for plotting images (gifs, etc.), but turns out to be really fast and useful."
     ]
    },
    {
     "cell_type": "code",
     "collapsed": false,
     "input": [
      "randomarray = random((10,10)) # takes one argument, the dimensions of the array\n",
      "# which happen to be 10x10, or (10,10)."
     ],
     "language": "python",
     "metadata": {},
     "outputs": [],
     "prompt_number": 10
    },
    {
     "cell_type": "code",
     "collapsed": false,
     "input": [
      "imshow(randomarray)"
     ],
     "language": "python",
     "metadata": {},
     "outputs": [
      {
       "output_type": "pyout",
       "prompt_number": 11,
       "text": [
        "<matplotlib.image.AxesImage at 0x10f0acc10>"
       ]
      },
      {
       "output_type": "display_data",
       "png": "[encoded data removed]"
      }
     ],
     "prompt_number": 11
    },
    {
     "cell_type": "raw",
     "metadata": {},
     "source": [
      "So, that certainly looks random enough. It's filled with numbers from 0 to 1, colored respectively from blue to red. We can see that by just printing out the array."
     ]
    },
    {
     "cell_type": "code",
     "collapsed": false,
     "input": [
      "print randomarray"
     ],
     "language": "python",
     "metadata": {},
     "outputs": [
      {
       "output_type": "stream",
       "stream": "stdout",
       "text": [
        "[[ 0.32659066  0.1388369   0.40939722  0.49942761  0.79176781  0.21221949\n",
        "   0.79339641  0.52242783  0.89063714  0.12568592]\n",
        " [ 0.96722384  0.08553203  0.51435062  0.74094319  0.48630478  0.75476522\n",
        "   0.23407272  0.8741874   0.62024931  0.05738802]\n",
        " [ 0.13584407  0.77983753  0.27868302  0.58750332  0.71526064  0.14193396\n",
        "   0.61321487  0.51469663  0.03631705  0.55539092]\n",
        " [ 0.06550735  0.09383293  0.64670457  0.8883375   0.83386543  0.43324702\n",
        "   0.41871911  0.7750017   0.42761446  0.13158358]\n",
        " [ 0.13154711  0.9044962   0.49468855  0.48991727  0.99816975  0.34573227\n",
        "   0.17738116  0.40977081  0.32082036  0.2479586 ]\n",
        " [ 0.08840776  0.63468527  0.97502526  0.27766315  0.8036251   0.24487296\n",
        "   0.83046044  0.72078981  0.66439139  0.71212741]\n",
        " [ 0.38548285  0.7747676   0.886475    0.93295975  0.86353525  0.26958848\n",
        "   0.73031186  0.9557802   0.05170562  0.46253241]\n",
        " [ 0.88157527  0.23809587  0.71696292  0.00119159  0.38102316  0.02136859\n",
        "   0.18029372  0.30336105  0.17978844  0.45816394]\n",
        " [ 0.17529838  0.52110538  0.10955271  0.11673044  0.63227273  0.48130143\n",
        "   0.01907285  0.92247264  0.74432379  0.76241912]\n",
        " [ 0.70105385  0.49788825  0.67644082  0.11645458  0.0076527   0.12706123\n",
        "   0.64449097  0.19862543  0.235232    0.70685153]]\n"
       ]
      }
     ],
     "prompt_number": 12
    },
    {
     "cell_type": "raw",
     "metadata": {},
     "source": [
      "It also looks a little fuzzier than we'd expect. Since imshow was originally developed for images, it interpolates between the points automatically. If we want it to stop doing that, we tell it interpolation=\"none\" ... actually, in order to make things a bit more portable, we say interpolation=\"nearest\""
     ]
    },
    {
     "cell_type": "code",
     "collapsed": false,
     "input": [
      "imshow(randomarray,interpolation=\"nearest\")"
     ],
     "language": "python",
     "metadata": {},
     "outputs": [
      {
       "output_type": "pyout",
       "prompt_number": 13,
       "text": [
        "<matplotlib.image.AxesImage at 0x10f0d7590>"
       ]
      },
      {
       "output_type": "display_data",
       "png": "[encoded data removed]"
      }
     ],
     "prompt_number": 13
    },
    {
     "cell_type": "raw",
     "metadata": {},
     "source": [
      "The numpy array is almost magically useful in terms of the syntax we can use to do what we want. For instance, if our dipoles can only point up or down, we might want to say that everything >= 0.5 is pointing up and everything < 0.5 is pointing down. If we call 0 down and 1 up, and first make a copy of the array so that we can refer back to the original one, we can do that with"
     ]
    },
    {
     "cell_type": "code",
     "collapsed": false,
     "input": [
      "ra2 = randomarray.copy()\n",
      "ra2[ra2 < 0.5] = 0\n",
      "ra2[ra2 >= 0.5] = 1\n",
      "print ra2\n",
      "imshow(ra2,interpolation=\"nearest\")"
     ],
     "language": "python",
     "metadata": {},
     "outputs": [
      {
       "output_type": "stream",
       "stream": "stdout",
       "text": [
        "[[ 0.  0.  0.  0.  1.  0.  1.  1.  1.  0.]\n",
        " [ 1.  0.  1.  1.  0.  1.  0.  1.  1.  0.]\n",
        " [ 0.  1.  0.  1.  1.  0.  1.  1.  0.  1.]\n",
        " [ 0.  0.  1.  1.  1.  0.  0.  1.  0.  0.]\n",
        " [ 0.  1.  0.  0.  1.  0.  0.  0.  0.  0.]\n",
        " [ 0.  1.  1.  0.  1.  0.  1.  1.  1.  1.]\n",
        " [ 0.  1.  1.  1.  1.  0.  1.  1.  0.  0.]\n",
        " [ 1.  0.  1.  0.  0.  0.  0.  0.  0.  0.]\n",
        " [ 0.  1.  0.  0.  1.  0.  0.  1.  1.  1.]\n",
        " [ 1.  0.  1.  0.  0.  0.  1.  0.  0.  1.]]\n"
       ]
      },
      {
       "output_type": "pyout",
       "prompt_number": 14,
       "text": [
        "<matplotlib.image.AxesImage at 0x10f152c50>"
       ]
      },
      {
       "output_type": "display_data",
       "png": "[encoded data removed]"
      }
     ],
     "prompt_number": 14
    },
    {
     "cell_type": "raw",
     "metadata": {},
     "source": [
      "What's going on here is that ra>0.5 makes a list of the entries of ra2 that are greater than 0.5, which we can use to index into ra2 itself.\n",
      "\n",
      "Speaking of indexing, let's talk about Python indexing a bit. One of the basic Python data structures is a list. You make these by using square brackets. For instance, we might make a list of fruits with:"
     ]
    },
    {
     "cell_type": "code",
     "collapsed": false,
     "input": [
      "mylist = [\"apple\",\"peach\",\"pear\",\"plum\"]"
     ],
     "language": "python",
     "metadata": {},
     "outputs": [],
     "prompt_number": 15
    },
    {
     "cell_type": "raw",
     "metadata": {},
     "source": [
      "And we can pick out specific elements in the list by indexing into them, again using square brackets. For instance, mylist[2] will give us \"element number 2\":"
     ]
    },
    {
     "cell_type": "code",
     "collapsed": false,
     "input": [
      "print mylist[2]"
     ],
     "language": "python",
     "metadata": {},
     "outputs": [
      {
       "output_type": "stream",
       "stream": "stdout",
       "text": [
        "pear\n"
       ]
      }
     ],
     "prompt_number": 16
    },
    {
     "cell_type": "raw",
     "metadata": {},
     "source": [
      "But, you might have expected that to print out \"peach\" ... Python, like most modern computer languages, starts indexing things with 0 instead of 1. So, \"apple\" is mylist[0], \"plum\" is mylist[3], and there is no mylist[72]:"
     ]
    },
    {
     "cell_type": "code",
     "collapsed": false,
     "input": [
      "print mylist[72]"
     ],
     "language": "python",
     "metadata": {},
     "outputs": [
      {
       "ename": "IndexError",
       "evalue": "list index out of range",
       "output_type": "pyerr",
       "traceback": [
        "\u001b[0;31m---------------------------------------------------------------------------\u001b[0m\n\u001b[0;31mIndexError\u001b[0m                                Traceback (most recent call last)",
        "\u001b[0;32m<ipython-input-17-2a447e9f3d7d>\u001b[0m in \u001b[0;36m<module>\u001b[0;34m()\u001b[0m\n\u001b[0;32m----> 1\u001b[0;31m \u001b[0;32mprint\u001b[0m \u001b[0mmylist\u001b[0m\u001b[0;34m[\u001b[0m\u001b[0;36m72\u001b[0m\u001b[0;34m]\u001b[0m\u001b[0;34m\u001b[0m\u001b[0m\n\u001b[0m",
        "\u001b[0;31mIndexError\u001b[0m: list index out of range"
       ]
      }
     ],
     "prompt_number": 17
    },
    {
     "cell_type": "raw",
     "metadata": {},
     "source": [
      "So, for instance, we can set specific elements of ra2. When indexing a multidimensional array (here, we have a 2-dimensional array), you need to specify the row and column (or the i,j,k indices, or whatever you choose to call them). Let's set 0,0 to 0 and 1. You can use ra2[0,0] or ra2[(0,0)] ... they mean the same thing."
     ]
    },
    {
     "cell_type": "code",
     "collapsed": false,
     "input": [
      "ra2[(0,0)] = 1\n",
      "imshow(ra2,interpolation='nearest')"
     ],
     "language": "python",
     "metadata": {},
     "outputs": [
      {
       "output_type": "pyout",
       "prompt_number": 26,
       "text": [
        "<matplotlib.image.AxesImage at 0x10f3864d0>"
       ]
      },
      {
       "output_type": "display_data",
       "png": "[encoded data removed]"
      }
     ],
     "prompt_number": 26
    },
    {
     "cell_type": "code",
     "collapsed": false,
     "input": [
      "ra2[0,0] = 0\n",
      "imshow(ra2,interpolation='nearest')"
     ],
     "language": "python",
     "metadata": {},
     "outputs": [
      {
       "output_type": "pyout",
       "prompt_number": 27,
       "text": [
        "<matplotlib.image.AxesImage at 0x10fbad490>"
       ]
      },
      {
       "output_type": "display_data",
       "png": "[encoded data removed]"
      }
     ],
     "prompt_number": 27
    },
    {
     "cell_type": "raw",
     "metadata": {},
     "source": [
      "See how the upper-left corner changed?"
     ]
    },
    {
     "cell_type": "heading",
     "level": 2,
     "metadata": {},
     "source": [
      "Monte Carlo PI"
     ]
    },
    {
     "cell_type": "raw",
     "metadata": {},
     "source": [
      "As discussed in class, we can use random numbers to estimate pi. This is just our idea of throwing darts at a dartboard. We took a very special dartboard, a circle of diameter one, stuck on a square wall with sides of length one. The area of the square is 1, and the area of the circle is pi/4. So, if we throw a bunch of darts at the dartboard, the ratio of darts that hit the circle vs. darts that that we've thrown (assuming we always hit something!) should give us pi/4."
     ]
    },
    {
     "cell_type": "raw",
     "metadata": {},
     "source": [
      "We'll need two more useful Python tools to get started. First, if we want to get a range of numbers, we use the \"range\" function. Again, this starts at 0, and the argument you give it tells it how many numbers to return, so range(4) will give 0,1,2,3:"
     ]
    },
    {
     "cell_type": "code",
     "collapsed": false,
     "input": [
      "print range(10)"
     ],
     "language": "python",
     "metadata": {},
     "outputs": [
      {
       "output_type": "stream",
       "stream": "stdout",
       "text": [
        "[0, 1, 2, 3, 4, 5, 6, 7, 8, 9]\n"
       ]
      }
     ],
     "prompt_number": 28
    },
    {
     "cell_type": "raw",
     "metadata": {},
     "source": [
      "We're going to use that because we want to be able to specify the number of darts we throw at the dartboard. The standard Python way to do that is by using a for loop and the range function. The most basic form of a for loop looks like \"for <name> in <list>:\" and it runs over the whole list, assigning <name> to each item in the list, in order. For instance, to print the first 10 numbers:"
     ]
    },
    {
     "cell_type": "code",
     "collapsed": false,
     "input": [
      "for i in range(10):\n",
      "    print i"
     ],
     "language": "python",
     "metadata": {},
     "outputs": [
      {
       "output_type": "stream",
       "stream": "stdout",
       "text": [
        "0\n",
        "1\n",
        "2\n",
        "3\n",
        "4\n",
        "5\n",
        "6\n",
        "7\n",
        "8\n",
        "9\n"
       ]
      }
     ],
     "prompt_number": 29
    },
    {
     "cell_type": "raw",
     "metadata": {},
     "source": [
      "This becomes significantly more useful if you decide you want to actually do something with the values, rather than just listing them off. For instance, if you wanted to print the first 10 squares, you could do"
     ]
    },
    {
     "cell_type": "code",
     "collapsed": false,
     "input": [
      "for i in range(10):\n",
      "    print i*i"
     ],
     "language": "python",
     "metadata": {},
     "outputs": [
      {
       "output_type": "stream",
       "stream": "stdout",
       "text": [
        "0\n",
        "1\n",
        "4\n",
        "9\n",
        "16\n",
        "25\n",
        "36\n",
        "49\n",
        "64\n",
        "81\n"
       ]
      }
     ],
     "prompt_number": 30
    },
    {
     "cell_type": "raw",
     "metadata": {},
     "source": [
      "Or you could reuse the function we defined earlier. You can print several things out at once if you like:"
     ]
    },
    {
     "cell_type": "code",
     "collapsed": false,
     "input": [
      "for i in range(10):\n",
      "    print i,square(i)"
     ],
     "language": "python",
     "metadata": {},
     "outputs": [
      {
       "output_type": "stream",
       "stream": "stdout",
       "text": [
        "0 0\n",
        "1 1\n",
        "2 4\n",
        "3 9\n",
        "4 16\n",
        "5 25\n",
        "6 36\n",
        "7 49\n",
        "8 64\n",
        "9 81\n"
       ]
      }
     ],
     "prompt_number": 31
    },
    {
     "cell_type": "raw",
     "metadata": {},
     "source": [
      "If you remember from class, we had \\pi = 4 * (number of darts in the circle/total number of darts). I think it's easier to just write out some code and see if it makes sense. So here we go. Note that you square things with two stars. I.e. 8 squared is written 8**2. 8^2 is something very different, which we won't need here."
     ]
    },
    {
     "cell_type": "code",
     "collapsed": false,
     "input": [
      "def estimatepi(ndarts):\n",
      "    number_in_circle = 0\n",
      "    for i in range(ndarts):\n",
      "        x,y = random(2) # remember this gets random numbers between 0 and 1\n",
      "        if x**2 + y**2 < 1:\n",
      "            number_in_circle = number_in_circle + 1\n",
      "    pi_guess = 4*number_in_circle/ndarts\n",
      "    return pi_guess"
     ],
     "language": "python",
     "metadata": {},
     "outputs": [],
     "prompt_number": 32
    },
    {
     "cell_type": "code",
     "collapsed": false,
     "input": [
      "print estimatepi(10)"
     ],
     "language": "python",
     "metadata": {},
     "outputs": [
      {
       "output_type": "stream",
       "stream": "stdout",
       "text": [
        "3.6\n"
       ]
      }
     ],
     "prompt_number": 33
    },
    {
     "cell_type": "code",
     "collapsed": false,
     "input": [
      "print estimatepi(10)"
     ],
     "language": "python",
     "metadata": {},
     "outputs": [
      {
       "output_type": "stream",
       "stream": "stdout",
       "text": [
        "4.0\n"
       ]
      }
     ],
     "prompt_number": 34
    },
    {
     "cell_type": "raw",
     "metadata": {},
     "source": [
      "See how they're different? That's because we chose different random numbers each time. What happens if throw a lot more darts?"
     ]
    },
    {
     "cell_type": "code",
     "collapsed": false,
     "input": [
      "print estimatepi(10000)"
     ],
     "language": "python",
     "metadata": {},
     "outputs": [
      {
       "output_type": "stream",
       "stream": "stdout",
       "text": [
        "3.122\n"
       ]
      }
     ],
     "prompt_number": 35
    },
    {
     "cell_type": "code",
     "collapsed": false,
     "input": [
      "print estimatepi(100000)"
     ],
     "language": "python",
     "metadata": {},
     "outputs": [
      {
       "output_type": "stream",
       "stream": "stdout",
       "text": [
        "3.14644\n"
       ]
      }
     ],
     "prompt_number": 36
    },
    {
     "cell_type": "code",
     "collapsed": false,
     "input": [
      "print estimatepi(10000000)"
     ],
     "language": "python",
     "metadata": {},
     "outputs": []
    },
    {
     "cell_type": "raw",
     "metadata": {},
     "source": [
      "(That last one takes a while to compute!). So, it gets better each time. That's cool. We'll talk about how to make a smarter algorithm as we go on."
     ]
    },
    {
     "cell_type": "heading",
     "level": 2,
     "metadata": {},
     "source": [
      "Monte Carlo Integration"
     ]
    },
    {
     "cell_type": "raw",
     "metadata": {},
     "source": [
      "To recap our in-class discussion: what's an integral? Really, it's just a way of asking what happens when we add up a bunch of things. For instance, let's say we have a 1-dimensional hill described by the function x**2. For fun, let's see how to plot that. Instead of using range, we'll use a fancier version provided by numpy: \"linspace\". ;inspace(<start>,<stop>,<numpoints>) gives us equally spaced points within a range:"
     ]
    },
    {
     "cell_type": "code",
     "collapsed": false,
     "input": [
      "print np.linspace(0,1,10)"
     ],
     "language": "python",
     "metadata": {},
     "outputs": [
      {
       "output_type": "stream",
       "stream": "stdout",
       "text": [
        "[ 0.          0.11111111  0.22222222  0.33333333  0.44444444  0.55555556\n",
        "  0.66666667  0.77777778  0.88888889  1.        ]\n"
       ]
      }
     ],
     "prompt_number": 37
    },
    {
     "cell_type": "raw",
     "metadata": {},
     "source": [
      "So, if we want to plot our function from 0 to 1, we can make it as smooth as we'd like. To get 2D plots of functions, we use the \"plot\" function from matplotlib's pyplot. Remember when we imported matplotlib.pyplot as plt before? That means we'll use plt.plot to plot things. It takes in the x values and the y values and then plots them."
     ]
    },
    {
     "cell_type": "code",
     "collapsed": false,
     "input": [
      "points = linspace(0,1,5)\n",
      "def f(x):\n",
      "    # Note the magic of the numpy arrays here. linspace gives us back an array.\n",
      "    # If x is an array, x**2 squares every element in the array. For those of you\n",
      "    # That have had some linear algebra, this means that arrays are NOT vectors.\n",
      "    # You can also do things like x/2 to get everything in x divided by 2.\n",
      "    return x**2\n",
      "plt.plot(points,f(points))\n"
     ],
     "language": "python",
     "metadata": {},
     "outputs": [
      {
       "output_type": "pyout",
       "prompt_number": 38,
       "text": [
        "[<matplotlib.lines.Line2D at 0x10fcb7f50>]"
       ]
      },
      {
       "output_type": "display_data",
       "png": "[encoded data removed]"
      }
     ],
     "prompt_number": 38
    },
    {
     "cell_type": "code",
     "collapsed": false,
     "input": [
      "# That's a little blocky, so let's plot more points\n",
      "points = linspace(0,1,100)\n",
      "plt.plot(points,f(points))"
     ],
     "language": "python",
     "metadata": {},
     "outputs": [
      {
       "output_type": "pyout",
       "prompt_number": 39,
       "text": [
        "[<matplotlib.lines.Line2D at 0x10fce1310>]"
       ]
      },
      {
       "output_type": "display_data",
       "png": "[encoded data removed]"
      }
     ],
     "prompt_number": 39
    },
    {
     "cell_type": "raw",
     "metadata": {},
     "source": [
      "So what if we wanted to find the integral of f from 0 to 1? One way would be to do it mathematically. That's fine for simple functions, but can be hard or impossible in many important cases. So, what if we think back to our dartboard? What if we throw darts at our x axis and average all of the y values that we get? To use some better language, what if we sample randomly from the domain of the function and average the results?"
     ]
    },
    {
     "cell_type": "code",
     "collapsed": false,
     "input": [
      "def estimatef(ntrials):\n",
      "    total = 0\n",
      "    for i in range(ntrials):\n",
      "        x = random()\n",
      "        total = total + f(x)\n",
      "    result = total / ntrials\n",
      "    return result"
     ],
     "language": "python",
     "metadata": {},
     "outputs": [],
     "prompt_number": 40
    },
    {
     "cell_type": "raw",
     "metadata": {},
     "source": [
      "In this case, we can do the integral by hand (1/3)x**3, so we know the answer should be (1/3)*1 - (1/3)*0 = 1/3. How do we do?"
     ]
    },
    {
     "cell_type": "code",
     "collapsed": false,
     "input": [
      "print estimatef(10)"
     ],
     "language": "python",
     "metadata": {},
     "outputs": [
      {
       "output_type": "stream",
       "stream": "stdout",
       "text": [
        "0.184866856301\n"
       ]
      }
     ],
     "prompt_number": 41
    },
    {
     "cell_type": "code",
     "collapsed": false,
     "input": [
      "print estimatef(10)"
     ],
     "language": "python",
     "metadata": {},
     "outputs": [
      {
       "output_type": "stream",
       "stream": "stdout",
       "text": [
        "0.35917361608\n"
       ]
      }
     ],
     "prompt_number": 42
    },
    {
     "cell_type": "code",
     "collapsed": false,
     "input": [
      "print estimatef(10000)"
     ],
     "language": "python",
     "metadata": {},
     "outputs": [
      {
       "output_type": "stream",
       "stream": "stdout",
       "text": [
        "0.332030039439\n"
       ]
      }
     ],
     "prompt_number": 43
    },
    {
     "cell_type": "code",
     "collapsed": false,
     "input": [
      "print estimatef(1000000)"
     ],
     "language": "python",
     "metadata": {},
     "outputs": [
      {
       "output_type": "stream",
       "stream": "stdout",
       "text": [
        "0.333036214686\n"
       ]
      }
     ],
     "prompt_number": 44
    },
    {
     "cell_type": "raw",
     "metadata": {},
     "source": [
      "Again, not bad!\n",
      "\n",
      "[We won't focus too much more on Monte Carlo integration, but I should mention one simplification we've made: remember the dart board? We had to divide by the area of the square. In terms of Monte Carlo integration, you should think of that as saying we need to divide by the (n-dimensional) volume we're integrating over. In the above case, we were integrating from 0 to 1, so the \"volume\" is just 1. If we were integrating from 2 to 5, the volume would have been 5-2=3 (try it out!). If we were evaluating a function of several variables, we'd have to take a larger-dimensional volume.]\n",
      "\n",
      "And it gets better with the number of trials (or darts, if you must).  But we wonder if we can be smarter. Specifically, if you think of the integral as the area under the curve, not all of the points are contributing equally to that area. In the above graph, the points closer to 1 are contributing more to the area. So, we might be smarter by sampling those points more often, and then figuring out how to weight our results. That's the basic idea of Metropolos Monte Carlo routines, also called \"importance sampling\" due to the above argument."
     ]
    },
    {
     "cell_type": "heading",
     "level": 2,
     "metadata": {},
     "source": [
      "Metropolis Monte Carlo"
     ]
    },
    {
     "cell_type": "raw",
     "metadata": {},
     "source": [
      "In the previous examples, we could do a good job of things by just sampling randomly. But, what if the space we're sampling from gets big? In Statistical Mechanics, you may recall that it's really easy to run into a discrete state space with more states than there are particles in the universe, and sampling over even 10% of these would take longer than the life of the universe on modern computers. So, how can we be smart about sampling? The key idea is that we know something important about the underlying distribution of states: it's a Boltzmann distribution. We use that to make our sampling smart."
     ]
    }
   ],
   "metadata": {}
  }
 ]
}