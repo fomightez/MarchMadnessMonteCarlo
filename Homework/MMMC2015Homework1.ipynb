{
 "metadata": {
  "name": "",
  "signature": "sha256:aa00a8fd69395aaf4354867e866b4043b3cc20765618c88074ff89618bd3d19c"
 },
 "nbformat": 3,
 "nbformat_minor": 0,
 "worksheets": [
  {
   "cells": [
    {
     "cell_type": "markdown",
     "metadata": {},
     "source": [
      "#March Madness, Part 1\n",
      "\n",
      "The goal here is to use Monte Carlo methods to predict a bracket for March Madness. We'll start off by using the \"dumb\" Monte Carlo\n",
      "methods we've described so far, and end up defining an energy function, using the Metropolis algorithm, etc. You will need to turn\n",
      "in code along with all of you answers to this question (can be done via email or by printing).\n"
     ]
    },
    {
     "cell_type": "markdown",
     "metadata": {},
     "source": [
      "## Flipping one coin (MM1.1)\n",
      "\n",
      "You start with two teams, Kansas and Indiana. Let's assume Indiana is ranked #1 and Kansas is ranked #2. Decide what you think the relative probability of Kansas or Indiana winning should be based on that ranking, write some Python code that uses random sampling to play the game based on that probability. Try running your game for 10, 20, 1000, etc. times and verify that you get the correct probability."
     ]
    },
    {
     "cell_type": "code",
     "collapsed": false,
     "input": [],
     "language": "python",
     "metadata": {},
     "outputs": [],
     "prompt_number": 0
    },
    {
     "cell_type": "markdown",
     "metadata": {},
     "source": [
      "## Ranking (MM1.2)\n",
      "\n",
      "This time, you start with a few teams and the following rankings (taken from the 2012 brackets):\n",
      "\n",
      "Kentucky (1), Western Kentucky (16), Iowa State (8), Connecticut (9), Wichita State (5), VCU (12), Indiana (4), New Mexico State (13).\n",
      "\n",
      "Your goal is to figure out who goes on to the next round. You're going to want to keep some more information around this time, so you may find it useful to keep things in a dictionary. E.g. something like"
     ]
    },
    {
     "cell_type": "code",
     "collapsed": false,
     "input": [
      "rankings = {\"Kentucky\":1,\n",
      "            \"Western Kentucky\":16,\n",
      "            }\n",
      "print rankings[\"Kentucky\"]\n",
      "print rankings[\"Kentucky\"] < rankings[\"Western Kentucky\"]"
     ],
     "language": "python",
     "metadata": {},
     "outputs": [
      {
       "output_type": "stream",
       "stream": "stdout",
       "text": [
        "1\n",
        "True\n"
       ]
      }
     ],
     "prompt_number": 2
    },
    {
     "cell_type": "markdown",
     "metadata": {},
     "source": [
      "### Write out the rankings dictionary for the Kentucky, Western Kentucky, Iowa State, Connecticut, Wichita State, VCU, Indiana and New Mexico State teams mentioned above."
     ]
    },
    {
     "cell_type": "code",
     "collapsed": false,
     "input": [],
     "language": "python",
     "metadata": {},
     "outputs": []
    },
    {
     "cell_type": "markdown",
     "metadata": {},
     "source": [
      "### play a game\n",
      "\n",
      "Now we have the tools to play a game, determining a winner. For now, just assume that the better-ranked team wins, and use your rankings dictionary to determine a winner. That will make it easiest to verify that the code is doing what you expect. Write a `playgame` function like the one below"
     ]
    },
    {
     "cell_type": "code",
     "collapsed": false,
     "input": [
      "def playgame(team1,team2):\n",
      "    <... your code here ...>\n",
      "    return winner,loser"
     ],
     "language": "python",
     "metadata": {},
     "outputs": []
    },
    {
     "cell_type": "markdown",
     "metadata": {},
     "source": [
      "## Energy (MM1.3)\n",
      "\n",
      "Now, we want to use the tools we've built up in Statistical Mechanics. We phrase everything in terms of energy, so let's pretend that games (or brackets) can be described by some sort of energy function U. \n",
      "\n",
      "For instance, you might say that the point in game space with Western Kentucky beating Kentucky is at higher value of U than Kentucky beating Western Kentucky. Using whatever definition of \"energy\" you'd like, write a function that calculates the energy of a given game outcome. With your function, what's the energy of Kentucky beating Western Kentucky? Western Kentucky beating Kentucky? Play a sample round with the above teams (1 vs. 16, 8 vs. 9, 5 vs. 12, 4 vs. 13) where all of the favored teams win. **What's the energy of the round?** Play another round, this time where at least one upset happens. **What's the energy of the round?**"
     ]
    },
    {
     "cell_type": "code",
     "collapsed": false,
     "input": [],
     "language": "python",
     "metadata": {},
     "outputs": []
    },
    {
     "cell_type": "markdown",
     "metadata": {},
     "source": [
      "## Temperature (MM1.4)\n",
      "\n",
      "In real life, the favored team doesn't always win. We can make a straightforward analogy to temperature here: at T=0, the favored team always wins. At very high temperature, the outcome is random. If we assume that a Boltzmann distribution is a reasonable distribution for bracket space, write a function that gives the relative probability of one team beating another, using your energy function from above and \"temperature.\" After you have it working, do some looking around on the web to see how often a higher seed wins/loses, and make a rough estimate of what your temperature should be. Verify that your function reproduces those probabilities, roughly."
     ]
    },
    {
     "cell_type": "code",
     "collapsed": false,
     "input": [],
     "language": "python",
     "metadata": {},
     "outputs": []
    },
    {
     "cell_type": "markdown",
     "metadata": {},
     "source": [
      "## Energy redux (MM1.5)\n",
      "\n",
      "There are several well known ranking sites, e.g. [KenPom](http://kenpom.com/) and [Jeff Sagarin](http://sagarin.com/sports/cbsend.htm). **In words,** I want you to describe two energy functions that you'll use in our final bracket pool. One of these should be a \"serious\" energy function, involving some sort of ranking system. The other should be a \"silly\" ranking (past examples have involved how awesome a team's mascott is, etc.)."
     ]
    },
    {
     "cell_type": "code",
     "collapsed": false,
     "input": [],
     "language": "python",
     "metadata": {},
     "outputs": []
    }
   ],
   "metadata": {}
  }
 ]
}