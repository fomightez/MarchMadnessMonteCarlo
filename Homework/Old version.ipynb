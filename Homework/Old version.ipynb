{
 "metadata": {
  "name": "Old version"
 },
 "nbformat": 3,
 "nbformat_minor": 0,
 "worksheets": [
  {
   "cells": [
    {
     "cell_type": "markdown",
     "metadata": {},
     "source": [
      "# Things Michael must do before the lab starts\n",
      "\n",
      " - Get usernames and passwords for the LittleFe units\n",
      " - Get VMD installed on all of the LittleFe units\n",
      " - put /home/mglerner/bin into everybody's PATH"
     ]
    },
    {
     "cell_type": "markdown",
     "metadata": {},
     "source": [
      "# The basic setup\n",
      "\n",
      "You've all read the prelab material by now, so you know the basic punchline:\n",
      "\n",
      " - we might like to figure out the free energy difference between two states of a system\n",
      " - we'll pick our system to be deca-Alanine, and our states will be a helix and an extended state\n",
      " - to do things \"correctly\" we'd want to be quasistatic, i.e. we'd want to pull extremely slowly to extend the system\n",
      " - the Jarzynski equality tells us $e^{-\\beta\\Delta F} = \\left< e^{-\\beta W} \\right>$\n",
      "\n",
      "that is, by taking the exponential average of the work done over several trajectories, _regardless_ of the path, we can find the equilibrium free energy difference. We'll exploit that by running several extremely fast pulling trajectories and using those to extract the free energy difference between the two states.\n",
      "\n",
      "# Where and how\n",
      "\n",
      "We'll be using a fast, modern, open-source suite of tools to investigate this. Not-so-coincidentally, it's the set of tools used in the paper you read."
     ]
    },
    {
     "cell_type": "code",
     "collapsed": false,
     "input": [],
     "language": "python",
     "metadata": {},
     "outputs": []
    }
   ],
   "metadata": {}
  }
 ]
}