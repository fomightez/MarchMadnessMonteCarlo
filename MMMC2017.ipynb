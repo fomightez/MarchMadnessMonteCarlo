{
 "cells": [
  {
   "cell_type": "markdown",
   "metadata": {},
   "source": [
    "# MMMC the 2017 update\n",
    "\n",
    "See the [original blog post](http://www.mglerner.com/blog/?p=16) for details and history. Here's the short story: in my Statistical and Thermal Physics class, we want to use Monte Carlo simulations to generate brackets for March Madness. There are at least two obvious ways to go about this:\n",
    "\n",
    " 1. Make some function that tells us the chance that team A beats team B, then flip coins for each matchup. That gets you one bracket. Repeat 100,000 times, collect statistics. This is the way Nate Silver's 538.com handles simulations for [basketball](http://fivethirtyeight.com/interactives/march-madness-predictions-2015/#mens), [elections](http://fivethirtyeight.com/interactives/senate-forecast/), etc, and I should probably implement it (note to self/motivated students: it's as easy as just generating 100,000 new brackets at a given temperature).\n",
    " \n",
    " 2. Generate one bracket, then do a Monte-Carlo walk through bracket space. This is tougher. We have to figure out how to make a move in bracket space, which is part of the fun of Monte Carlo simulations in general. To see how this is done, check out the code in `Bracket.swap` and `Brackets.simulate`.\n",
    " \n",
    " \n",
    "Please also see the [2015 Version](MMMC2015.ipynb) for more information, including what we did in 2015 to calibrate \"temperature.\"\n",
    "\n",
    "As you can tell, we take option 2 above. I've made things a bit nicer from a user standpoint this year; here's a walkthrough. First, load up our standard IPython setup"
   ]
  },
  {
   "cell_type": "code",
   "execution_count": 1,
   "metadata": {
    "collapsed": false
   },
   "outputs": [],
   "source": [
    "import seaborn as sns\n",
    "sns.set_style('darkgrid')\n",
    "import numpy as np\n",
    "#from bqplot import pyplot as plt\n",
    "from matplotlib import pyplot as plt\n",
    "from IPython.display import HTML"
   ]
  },
  {
   "cell_type": "markdown",
   "metadata": {},
   "source": [
    "## The basics\n",
    "\n",
    "make me a single bracket at a given temperature"
   ]
  },
  {
   "cell_type": "code",
   "execution_count": 1,
   "metadata": {
    "collapsed": true
   },
   "outputs": [],
   "source": [
    "import imp"
   ]
  },
  {
   "cell_type": "code",
   "execution_count": 2,
   "metadata": {
    "collapsed": false
   },
   "outputs": [
    {
     "ename": "KeyError",
     "evalue": "'Pyth'",
     "output_type": "error",
     "traceback": [
      "\u001b[0;31m---------------------------------------------------------------------------\u001b[0m",
      "\u001b[0;31mKeyError\u001b[0m                                  Traceback (most recent call last)",
      "\u001b[0;32m<ipython-input-2-8138a154193c>\u001b[0m in \u001b[0;36m<module>\u001b[0;34m()\u001b[0m\n\u001b[0;32m----> 1\u001b[0;31m \u001b[0;32mfrom\u001b[0m \u001b[0mMarchMadnessMonteCarlo\u001b[0m \u001b[0;32mimport\u001b[0m \u001b[0mKenPomeroy\u001b[0m\u001b[0;34m\u001b[0m\u001b[0m\n\u001b[0m\u001b[1;32m      2\u001b[0m \u001b[0mimp\u001b[0m\u001b[0;34m.\u001b[0m\u001b[0mreload\u001b[0m\u001b[0;34m(\u001b[0m\u001b[0mKenPomeroy\u001b[0m\u001b[0;34m)\u001b[0m\u001b[0;34m\u001b[0m\u001b[0m\n\u001b[1;32m      3\u001b[0m \u001b[0;32mimport\u001b[0m \u001b[0mMarchMadnessMonteCarlo\u001b[0m \u001b[0;32mas\u001b[0m \u001b[0mMMMC\u001b[0m\u001b[0;34m\u001b[0m\u001b[0m\n\u001b[1;32m      4\u001b[0m \u001b[0mimp\u001b[0m\u001b[0;34m.\u001b[0m\u001b[0mreload\u001b[0m\u001b[0;34m(\u001b[0m\u001b[0mMMMC\u001b[0m\u001b[0;34m)\u001b[0m\u001b[0;34m\u001b[0m\u001b[0m\n\u001b[1;32m      5\u001b[0m \u001b[0mteams\u001b[0m \u001b[0;34m=\u001b[0m \u001b[0mMMMC\u001b[0m\u001b[0;34m.\u001b[0m\u001b[0mteams\u001b[0m\u001b[0;34m[\u001b[0m\u001b[0;34m'south'\u001b[0m\u001b[0;34m]\u001b[0m\u001b[0;34m\u001b[0m\u001b[0m\n",
      "\u001b[0;32m/Users/mglerner/coding/MarchMadnessMonteCarlo/__init__.py\u001b[0m in \u001b[0;36m<module>\u001b[0;34m()\u001b[0m\n\u001b[1;32m    119\u001b[0m \u001b[0;34m\u001b[0m\u001b[0m\n\u001b[1;32m    120\u001b[0m \u001b[0;34m\u001b[0m\u001b[0m\n\u001b[0;32m--> 121\u001b[0;31m \u001b[0;32mfrom\u001b[0m \u001b[0mBrackets\u001b[0m \u001b[0;32mimport\u001b[0m \u001b[0mBracket\u001b[0m\u001b[0;34m,\u001b[0m \u001b[0msimulate\u001b[0m\u001b[0;34m,\u001b[0m \u001b[0mrunbracket1\u001b[0m\u001b[0;34m,\u001b[0m \u001b[0mrunbracket2\u001b[0m\u001b[0;34m,\u001b[0m \u001b[0mplaygame\u001b[0m\u001b[0;34m,\u001b[0m \u001b[0mmaketable\u001b[0m\u001b[0;34m\u001b[0m\u001b[0m\n\u001b[0m\u001b[1;32m    122\u001b[0m \u001b[0;32mfrom\u001b[0m \u001b[0mVisualization\u001b[0m \u001b[0;32mimport\u001b[0m \u001b[0mshowstats\u001b[0m\u001b[0;34m\u001b[0m\u001b[0m\n",
      "\u001b[0;32m/Users/mglerner/coding/MarchMadnessMonteCarlo/Brackets.py\u001b[0m in \u001b[0;36m<module>\u001b[0;34m()\u001b[0m\n\u001b[1;32m     20\u001b[0m \u001b[0;31m#strength = RAS.kenpom['Luck']\u001b[0m\u001b[0;34m\u001b[0m\u001b[0;34m\u001b[0m\u001b[0m\n\u001b[1;32m     21\u001b[0m \u001b[0;31m#strength = RAS.sagarin['Rating']\u001b[0m\u001b[0;34m\u001b[0m\u001b[0;34m\u001b[0m\u001b[0m\n\u001b[0;32m---> 22\u001b[0;31m \u001b[0mstrength\u001b[0m \u001b[0;34m=\u001b[0m \u001b[0mRAS\u001b[0m\u001b[0;34m.\u001b[0m\u001b[0mkenpom\u001b[0m\u001b[0;34m[\u001b[0m\u001b[0;34m'Pyth'\u001b[0m\u001b[0;34m]\u001b[0m\u001b[0;34m\u001b[0m\u001b[0m\n\u001b[0m\u001b[1;32m     23\u001b[0m \u001b[0;34m\u001b[0m\u001b[0m\n\u001b[1;32m     24\u001b[0m \u001b[0;31m#T = 0.5 # In units of epsilon/k\u001b[0m\u001b[0;34m\u001b[0m\u001b[0;34m\u001b[0m\u001b[0m\n",
      "\u001b[0;31mKeyError\u001b[0m: 'Pyth'"
     ]
    }
   ],
   "source": [
    "from MarchMadnessMonteCarlo import KenPomeroy\n",
    "imp.reload(KenPomeroy)\n",
    "import MarchMadnessMonteCarlo as MMMC\n",
    "imp.reload(MMMC)\n",
    "teams = MMMC.teams['south']\n",
    "b = MMMC.Bracket(teams=teams,T=0.5)\n",
    "print (b)"
   ]
  },
  {
   "cell_type": "code",
   "execution_count": null,
   "metadata": {
    "collapsed": true
   },
   "outputs": [],
   "source": [
    "MMMC.KenPomeroy"
   ]
  },
  {
   "cell_type": "markdown",
   "metadata": {},
   "source": [
    "Now, instead of asking for all of the teams in the South, make up a set of Final Four teams, and run 1000 simulations. Show some statistics"
   ]
  },
  {
   "cell_type": "code",
   "execution_count": 4,
   "metadata": {
    "collapsed": false
   },
   "outputs": [
    {
     "name": "stderr",
     "output_type": "stream",
     "text": [
      "/Users/mglerner/coding/MarchMadnessMonteCarlo/Brackets.py:71: RuntimeWarning: overflow encountered in exp\n",
      "  boltzmann_factor = exp(-ediff/T)\n"
     ]
    },
    {
     "name": "stdout",
     "output_type": "stream",
     "text": [
      "Lowest energy bracket\n",
      "Kentucky (2)                               \n",
      "Wisconsin (8)             Ken (2)          \n",
      "Villanova (1)             Vil (1)  Vil (1) \n",
      "Duke (2)                                   \n",
      "Total bracket energy: -3.5789150237535927\n",
      "\n",
      "Most common bracket (329)\n",
      "Kentucky (2)                               \n",
      "Wisconsin (8)             Ken (2)          \n",
      "Villanova (1)             Vil (1)  Vil (1) \n",
      "Duke (2)                                   \n",
      "Total bracket energy: -3.5789150237535927\n",
      "\n"
     ]
    },
    {
     "data": {
      "image/png": "[encoded data removed]",
      "text/plain": [
       "<matplotlib.figure.Figure at 0x10b888f60>"
      ]
     },
     "metadata": {},
     "output_type": "display_data"
    }
   ],
   "source": [
    "sr = MMMC.simulate(1000,['Kentucky','Wisconsin','Villanova','Duke'],0.5)\n",
    "MMMC.showstats(sr,newfig=True)"
   ]
  },
  {
   "cell_type": "markdown",
   "metadata": {},
   "source": [
    "As you can see, we fully sample bracket space pretty quickly (look at the graph in the top right, with the unique brackets shown)."
   ]
  },
  {
   "cell_type": "markdown",
   "metadata": {},
   "source": [
    "# What should our temperature be?\n",
    "\n",
    "If we had chosen option 1 at the top, we'd just flip coins with a given probability of winning. Here (and this may be a questionable decision), we need to set an overall temperature for our simulation. Intuitively, the higher the temperature, the closer we come to a random outcome. The lower the temperature, the closer we come to a \"best seed always wins\" bracket. If we're going to make sense of temperature, we should pick a reasonable energy function.\n",
    "\n",
    "We can use [KenPom](http://www.kenpom.com)'s `AdjEm` (log5 is no longer used. See [here](http://kenpom.com/blog/ratings-methodology-update/) defined as\n",
    "\n",
    "```python\n",
    "def log5_energy_game(winner, loser):\n",
    "    A,B = strength[winner],strength[loser]\n",
    "    # see http://207.56.97.150/articles/playoff2002.htm\n",
    "    win_pct = (A-A*B)/(A+B-2*A*B)\n",
    "    return -win_pct\n",
    "```\n",
    "\n",
    "Conveniently, that's coded up for you in MarchMadnessMonteCarlo.examples.\n",
    "\n",
    "Later on, we could make a fancy energy function with, e.g., a weighted average of KenPom, Jeff Sagarin, and the NCAA rankings. "
   ]
  },
  {
   "cell_type": "code",
   "execution_count": null,
   "metadata": {
    "collapsed": true
   },
   "outputs": [],
   "source": [
    "import MarchMadnessMonteCarlo.examples\n",
    "MMMC.set_energy_function(MarchMadnessMonteCarlo.examples.log5_energy_game)"
   ]
  },
  {
   "cell_type": "markdown",
   "metadata": {},
   "source": [
    "Now, what should our actual temperature be? Historically, we know that an 8 seed vs. a 9 seed should essentially be a tossup. So, as a proxy here, we could just look at the chance of an 8 seed winning over a range of temperatures, and pick the point where it's pretty close to 0.5."
   ]
  },
  {
   "cell_type": "code",
   "execution_count": null,
   "metadata": {
    "collapsed": true
   },
   "outputs": [],
   "source": [
    "def winpct8(team8,team9,T,numtrials=10000):\n",
    "    results = [MMMC.playgame(team8,team9,T)[0] == team8 for i in range(numtrials)]\n",
    "    return np.average(results)\n",
    "def plotwins(team8,team9,numtrials=10000):\n",
    "    Ts = np.linspace(0,3,100)\n",
    "    pct = [winpct8(team8,team9,T,numtrials) for T in Ts]\n",
    "    plt.plot(Ts,pct,label='{t1} vs. {t2}'.format(t1=team8,t2=team9))\n",
    "    plt.xlabel('T')\n",
    "    plt.ylabel('winpct')"
   ]
  },
  {
   "cell_type": "markdown",
   "metadata": {},
   "source": [
    "We'll look at it for all four of the 8 vs. 9 matchups"
   ]
  },
  {
   "cell_type": "code",
   "execution_count": null,
   "metadata": {
    "collapsed": false
   },
   "outputs": [],
   "source": [
    "plotwins('Cincinnati','Purdue')\n",
    "plotwins('Oregon','Oklahoma St.')\n",
    "plotwins('North Carolina St.','LSU')\n",
    "plotwins('San Diego St.',\"St. John's\")\n",
    "plt.legend()"
   ]
  },
  {
   "cell_type": "markdown",
   "metadata": {},
   "source": [
    "A couple of things jump out. First, the green line: KenPom has Oregon ranked below Oklahoma State, so the curve approaches 50% from below instead of from above.\n",
    "\n",
    "Second, just eyeballing that, it looks like we could make a legitimate argument for almost anything between T=1.0 and 2.0. \n",
    "\n",
    "What does that do to \"clear\" matchups? Well, Kentucky is a big favorite over Kansas with this model:"
   ]
  },
  {
   "cell_type": "code",
   "execution_count": null,
   "metadata": {
    "collapsed": false
   },
   "outputs": [],
   "source": [
    "MarchMadnessMonteCarlo.examples.log5_energy_game('Kentucky','Kansas')"
   ]
  },
  {
   "cell_type": "code",
   "execution_count": null,
   "metadata": {
    "collapsed": false
   },
   "outputs": [],
   "source": [
    "plotwins('Kentucky','Kansas')"
   ]
  },
  {
   "cell_type": "markdown",
   "metadata": {},
   "source": [
    "If I pick `T=1.5`, I get Kentucky, the favorite, winning 60% of the time. You can feel free to choose a \"saner\" temperature, but I'm rooting for KU here!\n",
    "\n",
    "## Running some brackets!\n",
    "\n",
    "So what does a bracket happen to look like? Well, in the original blog post, I mentioned that we came up with two different ways to run brackets. It can take a while to run a bracket, so a fast way (implemented as `runbracket2`) is to run separate brackets for each of the individual regions, then take the winner from each region's most common bracket to form a Final Four. Below, we do just that, running 10,000 trials for each of the regions, and 1000 trials for the Final Four."
   ]
  },
  {
   "cell_type": "code",
   "execution_count": null,
   "metadata": {
    "collapsed": false
   },
   "outputs": [],
   "source": [
    "results = MMMC.runbracket2(ntrials1=10000,ntrials2=1000,T=1.5)"
   ]
  },
  {
   "cell_type": "markdown",
   "metadata": {},
   "source": [
    "So, not looking so hot for my Kansas, but the code is working.\n",
    "\n",
    "Let's visualize the results, then make a table of results, as per [538](http://fivethirtyeight.com/interactives/march-madness-predictions-2015/#mens)."
   ]
  },
  {
   "cell_type": "code",
   "execution_count": null,
   "metadata": {
    "collapsed": false,
    "scrolled": true
   },
   "outputs": [],
   "source": [
    "# Basic visualization\n",
    "for region in 'midwest west east south'.split():\n",
    "    MMMC.showstats(results[region],description=region,newfig=True)"
   ]
  },
  {
   "cell_type": "markdown",
   "metadata": {},
   "source": [
    "Here you can see the classic reason to do Monte Carlo samping in the first place: we're absolutely nowhere near fully sampling bracket space. You can tell this from each of the \"Unique brackets over the trajectory\" plots, none of which have leveled out.\n",
    "\n",
    "Further, you can see that the strength distribution in each of the regions is pretty different. Check out the energy distribution histograms for visual proof.\n",
    "\n",
    "### Nice tables\n",
    "\n",
    "And here's our set of tabulated results. Note that things look a little funny for the Final Four: `runbracket2` runs the final four separate from the rest of the tourney. So, only four teams are allowed to have Championship and Win percentages above zero (the final four percentages are taken from the first chunk of the tourney)."
   ]
  },
  {
   "cell_type": "code",
   "execution_count": null,
   "metadata": {
    "collapsed": false
   },
   "outputs": [],
   "source": [
    "h = HTML(MMMC.maketable(results))\n",
    "h"
   ]
  },
  {
   "cell_type": "markdown",
   "metadata": {},
   "source": [
    "Given those concerns, let's just run `runbracket1` and look at the results"
   ]
  },
  {
   "cell_type": "code",
   "execution_count": null,
   "metadata": {
    "collapsed": false
   },
   "outputs": [],
   "source": [
    "results = MMMC.runbracket1(ntrials=10000,T=1.5)"
   ]
  },
  {
   "cell_type": "code",
   "execution_count": null,
   "metadata": {
    "collapsed": false
   },
   "outputs": [],
   "source": [
    "h = HTML(MMMC.maketable(results))\n",
    "h"
   ]
  },
  {
   "cell_type": "markdown",
   "metadata": {},
   "source": [
    "That is, indeed, high temperature! Let's try it with a bunch more runs"
   ]
  },
  {
   "cell_type": "code",
   "execution_count": null,
   "metadata": {
    "collapsed": false
   },
   "outputs": [],
   "source": [
    "results = MMMC.runbracket1(ntrials=100000,T=1.5)"
   ]
  },
  {
   "cell_type": "code",
   "execution_count": null,
   "metadata": {
    "collapsed": false
   },
   "outputs": [],
   "source": [
    "h = HTML(MMMC.maketable(results))\n",
    "h"
   ]
  },
  {
   "cell_type": "code",
   "execution_count": null,
   "metadata": {
    "collapsed": false
   },
   "outputs": [],
   "source": [
    "MMMC.showstats(results['all'],description='full run',newfig=True)"
   ]
  },
  {
   "cell_type": "markdown",
   "metadata": {},
   "source": [
    "Not bad! (Also, note the shape of the energy distribution, and the fact taht the \"Unique brackets\" group is still basically linear!)\n",
    "\n",
    "## Who wins?\n",
    "\n",
    "But let's be honest for a minute. We all know Kansas is going to win. What do the brackets where that happened look like?"
   ]
  },
  {
   "cell_type": "code",
   "execution_count": null,
   "metadata": {
    "collapsed": true
   },
   "outputs": [],
   "source": [
    "goodbrackets = [i for i in results['all'].brackets if i.bracket[-1][0] == 'Kansas']"
   ]
  },
  {
   "cell_type": "code",
   "execution_count": null,
   "metadata": {
    "collapsed": true
   },
   "outputs": [],
   "source": [
    "from MarchMadnessMonteCarlo.Brackets import Stats\n",
    "lb, mcb, mcb_count, unique_brackets, lowest_sightings = Stats.gather_uniquestats(goodbrackets)\n",
    "sr = MMMC.SimulationResults(goodbrackets,unique_brackets,lb,lowest_sightings,mcb,mcb_count)\n",
    "trueresults = {'all':sr}"
   ]
  },
  {
   "cell_type": "code",
   "execution_count": null,
   "metadata": {
    "collapsed": false
   },
   "outputs": [],
   "source": [
    "h = HTML(MMMC.maketable(trueresults))\n",
    "h"
   ]
  },
  {
   "cell_type": "code",
   "execution_count": null,
   "metadata": {
    "collapsed": false
   },
   "outputs": [],
   "source": [
    "sr.most_common_bracket"
   ]
  },
  {
   "cell_type": "code",
   "execution_count": null,
   "metadata": {
    "collapsed": false
   },
   "outputs": [],
   "source": [
    "sr.most_common_bracket_count"
   ]
  },
  {
   "cell_type": "markdown",
   "metadata": {},
   "source": [
    "Huh. Well, that's not exactly my pick for best bracket, but there you have it.\n",
    "\n",
    "Excersizes for the reader:\n",
    "\n",
    " * make a better energy function, using maybe a weighted average of different rankings. I slurped in KenPom and Jeff Sagarin, but you could add your own. \n",
    " * come up with a better \"hometown wins\" version. E.g. explicitly check for KU, and tweak the rankings."
   ]
  },
  {
   "cell_type": "code",
   "execution_count": null,
   "metadata": {
    "collapsed": true
   },
   "outputs": [],
   "source": [
    "from MarchMadnessMonteCarlo import RankingsAndStrength as RAS\n",
    "strength = RAS.kenpom['Pyth']\n",
    "jsstrength = RAS.sagarin['Rating']\n",
    "\n",
    "def weighted_KU_energy_game(winner, loser):\n",
    "    if winner == 'Kansas':\n",
    "        win_pct = 0.99\n",
    "    elif loser == 'Kansas':\n",
    "        win_pct = 0.01\n",
    "    else:\n",
    "        A,B = strength[winner],strength[loser]\n",
    "        # see http://207.56.97.150/articles/playoff2002.htm\n",
    "        kenpom = (A-A*B)/(A+B-2*A*B)\n",
    "        A,B = jsstrength[winner]/100, jsstrength[loser]/100\n",
    "        A,B = min(A,0.9999),min(B,0.9999)\n",
    "        sagarin = (A-A*B)/(A+B-2*A*B)\n",
    "        win_pct = 0.70*kenpom + 0.30*sagarin\n",
    "    return -win_pct\n"
   ]
  },
  {
   "cell_type": "code",
   "execution_count": null,
   "metadata": {
    "collapsed": true
   },
   "outputs": [],
   "source": [
    "MMMC.set_energy_function(weighted_KU_energy_game)"
   ]
  },
  {
   "cell_type": "code",
   "execution_count": null,
   "metadata": {
    "collapsed": false
   },
   "outputs": [],
   "source": [
    "results = MMMC.runbracket1(ntrials=100000,T=1.5)"
   ]
  },
  {
   "cell_type": "code",
   "execution_count": null,
   "metadata": {
    "collapsed": false
   },
   "outputs": [],
   "source": [
    "MMMC.showstats(results['all'],description='full run',newfig=True)"
   ]
  },
  {
   "cell_type": "code",
   "execution_count": null,
   "metadata": {
    "collapsed": false
   },
   "outputs": [],
   "source": [
    "h = HTML(MMMC.maketable(results))\n",
    "h"
   ]
  },
  {
   "cell_type": "markdown",
   "metadata": {},
   "source": [
    "Looks good! I'm in!"
   ]
  }
 ],
 "metadata": {
  "kernelspec": {
   "display_name": "Python 3",
   "language": "python",
   "name": "python3"
  },
  "language_info": {
   "codemirror_mode": {
    "name": "ipython",
    "version": 3
   },
   "file_extension": ".py",
   "mimetype": "text/x-python",
   "name": "python",
   "nbconvert_exporter": "python",
   "pygments_lexer": "ipython3",
   "version": "3.6.0"
  }
 },
 "nbformat": 4,
 "nbformat_minor": 1
}
